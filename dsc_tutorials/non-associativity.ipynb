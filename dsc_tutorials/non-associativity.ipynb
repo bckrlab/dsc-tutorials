{
 "cells": [
  {
   "cell_type": "code",
   "execution_count": null,
   "metadata": {},
   "outputs": [],
   "source": [
    "import torch\n",
    "\n",
    "a = torch.tensor(1e10, dtype=torch.float16)\n",
    "b = torch.tensor(1.0, dtype=torch.float16)\n",
    "c = torch.tensor(-1e10, dtype=torch.float16)"
   ]
  },
  {
   "cell_type": "code",
   "execution_count": null,
   "metadata": {},
   "outputs": [],
   "source": [
    "a + (b + c)"
   ]
  },
  {
   "cell_type": "code",
   "execution_count": null,
   "metadata": {},
   "outputs": [],
   "source": [
    "(a + b) + c"
   ]
  }
 ],
 "metadata": {
  "kernelspec": {
   "display_name": "dsc-tutorials",
   "language": "python",
   "name": "python3"
  },
  "language_info": {
   "name": "python",
   "version": "3.12.2"
  }
 },
 "nbformat": 4,
 "nbformat_minor": 2
}
