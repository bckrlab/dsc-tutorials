{
 "cells": [
  {
   "cell_type": "markdown",
   "id": "f206ea04",
   "metadata": {},
   "source": [
    "# Variational Auto-Encoder (VAE)"
   ]
  },
  {
   "cell_type": "markdown",
   "id": "eaa23bcf",
   "metadata": {
    "vscode": {
     "languageId": "plaintext"
    }
   },
   "source": [
    "> In this tutorial, we will build a *variational* autoencoder for MNIST.\n",
    ">\n",
    "> WIP!"
   ]
  },
  {
   "cell_type": "code",
   "execution_count": 1,
   "id": "4f64e9fc",
   "metadata": {
    "tags": [
     "hide-cell",
     "imports"
    ]
   },
   "outputs": [],
   "source": [
    "import torch\n",
    "import torch.nn as nn\n",
    "import numpy as np\n",
    "import matplotlib.pyplot as plt\n",
    "import pandas as pd\n",
    "import seaborn as sns\n",
    "\n",
    "from tqdm import tqdm, trange\n",
    "from sklearn.manifold import TSNE\n",
    "from torch.utils.data import DataLoader\n",
    "from torch.optim import Adam\n",
    "from torchvision.datasets import MNIST\n",
    "from torchvision.transforms.v2 import ToTensor, Normalize, Compose, ToImage, ToDtype"
   ]
  },
  {
   "cell_type": "code",
   "execution_count": 2,
   "id": "a8c11ce9",
   "metadata": {},
   "outputs": [],
   "source": [
    "# load the dataset with help from torchvision\n",
    "\n",
    "transform = Compose([\n",
    "    # formerly used ToTensor, which is decaprecated now\n",
    "    # transforms images to torchvision.tv_tensors_Image\n",
    "    ToImage(),\n",
    "    # with scale=True, scales pixel intensities from [0,255] to [0.0,1.0]\n",
    "    ToDtype(torch.float32, scale=True),\n",
    "    # could normalize the pixel intensity value to overall mean and std of train set\n",
    "    # Normalize([0.1307], [0.3081]),\n",
    "])\n",
    "\n",
    "train_ds = MNIST(\"data/\", train=True, download=True, transform=transform)\n",
    "test_ds = MNIST(\"data/\", train=False, download=True, transform=transform)"
   ]
  },
  {
   "cell_type": "code",
   "execution_count": 3,
   "id": "3052f87d",
   "metadata": {},
   "outputs": [],
   "source": [
    "class Encoder(nn.Module):\n",
    "    def __init__(self, n_latent=2, *args, **kwargs):\n",
    "        \"\"\"Our Encoder: compresses the input image to a low-dimensional representation.\"\"\"\n",
    "        super().__init__(*args, **kwargs)\n",
    "        # how many dimensions our latent space has\n",
    "        self.n_latent = n_latent\n",
    "        \n",
    "        self.conv = nn.Sequential(\n",
    "            # shape: (N,1,28,28)\n",
    "            nn.Conv2d(in_channels=1, out_channels=8, kernel_size=(5,5), padding=2),\n",
    "            # shape: (N,8,28,28)\n",
    "            nn.MaxPool2d((2,2)),\n",
    "            # shape: (N,8,14,14)\n",
    "            # batch norms will help to stabilize and speed up training\n",
    "            nn.BatchNorm2d(8),\n",
    "            nn.ReLU(),\n",
    "            # shape: (N,8,14,14)\n",
    "            nn.Conv2d(in_channels=8, out_channels=8, kernel_size=(5,5), padding=2),\n",
    "            # shape: (N,8,14,14)\n",
    "            nn.MaxPool2d((2,2)),\n",
    "            nn.BatchNorm2d(8),\n",
    "            # shape: (N,8,7,7)\n",
    "            nn.ReLU(),\n",
    "            # shape: (N,8,7,7)\n",
    "            # nn.Flatten(),\n",
    "        )\n",
    "\n",
    "        # predicts mean        \n",
    "        self.linear_mu = nn.Sequential(\n",
    "            # shape: (N,392)\n",
    "            nn.Linear(392, 64),\n",
    "            nn.BatchNorm1d(64),\n",
    "            nn.ReLU(),\n",
    "            nn.Linear(64, self.n_latent)\n",
    "            # no activation function!\n",
    "        )\n",
    "\n",
    "        # predicts logarithmic variance\n",
    "        self.linear_logvar = nn.Sequential(\n",
    "            # shape: (N,392)\n",
    "            nn.Linear(392, 64),\n",
    "            nn.BatchNorm1d(64),\n",
    "            nn.ReLU(),\n",
    "            nn.Linear(64, self.n_latent)\n",
    "            # no activation function here!\n",
    "        )\n",
    " \n",
    "    def forward(self, x: torch.Tensor):\n",
    "        x = self.conv(x)\n",
    "        x = x.flatten(start_dim=1)\n",
    "\n",
    "        mu = self.linear_mu(x)\n",
    "        logvar = self.linear_logvar(x)\n",
    "        return mu, logvar"
   ]
  },
  {
   "cell_type": "code",
   "execution_count": 4,
   "id": "ac65cce1",
   "metadata": {},
   "outputs": [],
   "source": [
    "class Decoder(nn.Module):\n",
    "    def __init__(self, n_latent=2, *args, **kwargs):\n",
    "        \"\"\"Our Decoder: acts inversely to the encoder and decompresses the latent representation back into an image.\"\"\"\n",
    "        super().__init__(*args, **kwargs)\n",
    "        self.n_latent = n_latent\n",
    "        self.linear = nn.Sequential(\n",
    "            nn.Linear(self.n_latent, 64),\n",
    "            nn.BatchNorm1d(64),\n",
    "            nn.ReLU(),\n",
    "            nn.Linear(64, 392),\n",
    "            nn.BatchNorm1d(392),\n",
    "            nn.ReLU(),\n",
    "        )\n",
    "\n",
    "        self.deconv = nn.Sequential(\n",
    "            nn.ConvTranspose2d(8, 8, (5,5), padding=2, stride=2, output_padding=1),\n",
    "            nn.BatchNorm2d(8),\n",
    "            nn.ReLU(),\n",
    "            # output_padding does not actually add 0s around the output, just increases the size\n",
    "            nn.ConvTranspose2d(8, 1, (5,5), padding=2, stride=2, output_padding=1),\n",
    "            # apply sigmoid to map to [0,1]\n",
    "            nn.Sigmoid()\n",
    "        )\n",
    "    \n",
    "    def forward(self, x: torch.Tensor):\n",
    "        # input shape (N, 10)\n",
    "        x = self.linear(x)\n",
    "        # reshape x to the right dimensions\n",
    "        x = x.unflatten(1, (8,7,7))\n",
    "        # transposed convolution\n",
    "        x = self.deconv(x)\n",
    "        return x"
   ]
  },
  {
   "cell_type": "code",
   "execution_count": null,
   "id": "55cfb92a",
   "metadata": {},
   "outputs": [],
   "source": [
    "class VAE(nn.Module):\n",
    "    def __init__(self, encoder_kwargs=None, decoder_kwargs=None, *args, **kwargs):\n",
    "        super().__init__(*args, **kwargs)\n",
    "        encoder_kwargs = dict() if encoder_kwargs is None else encoder_kwargs\n",
    "        decoder_kwargs = dict() if decoder_kwargs is None else decoder_kwargs\n",
    "\n",
    "        self.encoder = Encoder(**encoder_kwargs)\n",
    "        self.decoder = Decoder(**decoder_kwargs)\n",
    "    \n",
    "    def sample(self, mu, logvar):\n",
    "        # get standard deviation\n",
    "        sigma = torch.exp(0.5 * logvar)\n",
    "        # reparameterization trick: neither mu nor sigma is used for sampling\n",
    "        noise = torch.randn_like(mu)\n",
    "        z = mu + sigma * noise\n",
    "        return z\n",
    "\n",
    "    def forward(self, x):\n",
    "        mu, logvar = self.encoder(x)\n",
    "        z = self.sample(mu, logvar)\n",
    "        x_hat = self.decoder(z)\n",
    "        return x_hat, z, mu, logvar"
   ]
  },
  {
   "cell_type": "markdown",
   "id": "3691d49e",
   "metadata": {},
   "source": [
    "# Training"
   ]
  },
  {
   "cell_type": "markdown",
   "id": "842ba74f",
   "metadata": {},
   "source": [
    "- for a proof of the Kullback Leibler Divergence for Normal Distributions, see: https://statproofbook.github.io/P/norm-kl.html"
   ]
  },
  {
   "cell_type": "markdown",
   "id": "898d24b3",
   "metadata": {},
   "source": [
    "![Equation 10 from Kingma](figures/kingma_eq_10.png)"
   ]
  },
  {
   "cell_type": "code",
   "execution_count": 50,
   "id": "30750e78",
   "metadata": {},
   "outputs": [],
   "source": [
    "from torch.nn import MSELoss\n",
    "from torch.nn import BCELoss\n",
    "from torch.optim import Adam\n",
    "\n",
    "def train_vae(model: nn.Module, train_dl: DataLoader, n_epochs: int = 5, lr=1e-4, log_interval=10, beta=1):\n",
    "    model.train()\n",
    "    loss_log = list()\n",
    "\n",
    "    # criterion_reco = MSELoss()\n",
    "    criterion_bce = BCELoss(reduction=\"sum\")\n",
    "    optimizer = Adam(model.parameters(), lr=lr)\n",
    "\n",
    "    for epoch in trange(n_epochs):\n",
    "        for i, (x, _) in enumerate(train_dl):\n",
    "            optimizer.zero_grad()\n",
    "            x_reco, _, mu, logvar = model(x)\n",
    "            # reco_loss = criterion_reco(x, x_reco)\n",
    "            # binary cross entropy as likelihood\n",
    "            loss_bce = criterion_bce(x_reco, x)\n",
    "            # the equation below directly results from the KLD between the latent distribution and N(0,1)\n",
    "            loss_kld = -0.5 * (1 + logvar - mu.pow(2) - logvar.exp()).sum()\n",
    "            loss = loss_bce + beta * loss_kld\n",
    "            loss.backward()\n",
    "            if i % log_interval == 0:\n",
    "                loss_log.append(loss.item())\n",
    "            optimizer.step()\n",
    "    return loss_log\n"
   ]
  },
  {
   "cell_type": "code",
   "execution_count": 51,
   "id": "5dade6de",
   "metadata": {},
   "outputs": [],
   "source": [
    "from torch.utils.data import DataLoader\n",
    "\n",
    "train_dl = DataLoader(train_ds, batch_size=32, shuffle=True)\n",
    "test_dl = DataLoader(test_ds, batch_size=32)"
   ]
  },
  {
   "cell_type": "code",
   "execution_count": null,
   "id": "926ad624",
   "metadata": {
    "tags": [
     "params"
    ]
   },
   "outputs": [],
   "source": [
    "BETA = 1\n",
    "N_EPOCHS = 10"
   ]
  },
  {
   "cell_type": "code",
   "execution_count": 53,
   "id": "aa1da97b",
   "metadata": {},
   "outputs": [
    {
     "name": "stderr",
     "output_type": "stream",
     "text": [
      "100%|██████████| 5/5 [03:42<00:00, 44.59s/it]\n"
     ]
    }
   ],
   "source": [
    "model = VAE()\n",
    "\n",
    "train_loss = train_vae(model, train_dl, n_epochs=N_EPOCHS, beta=BETA)"
   ]
  },
  {
   "cell_type": "code",
   "execution_count": 56,
   "id": "b77adf44",
   "metadata": {},
   "outputs": [
    {
     "data": {
      "image/png": "[encoded data removed]",
      "text/plain": [
       "<Figure size 640x480 with 1 Axes>"
      ]
     },
     "metadata": {},
     "output_type": "display_data"
    }
   ],
   "source": [
    "plt.plot(train_loss)\n",
    "plt.title(\"vae train loss (BCE+KLD)\");"
   ]
  },
  {
   "cell_type": "code",
   "execution_count": 57,
   "id": "60a8882a",
   "metadata": {},
   "outputs": [],
   "source": [
    "n_test = 10\n",
    "\n",
    "x_test = torch.stack([train_ds[i][0] for i in range(n_test)])\n",
    "y_test = torch.tensor([train_ds[i][1] for i in range(n_test)])"
   ]
  },
  {
   "cell_type": "code",
   "execution_count": 58,
   "id": "0c5c0f32",
   "metadata": {},
   "outputs": [],
   "source": [
    "model.eval()\n",
    "\n",
    "with torch.no_grad():\n",
    "    x_hat, z_test, mu_test, logvar_test = model(x_test)"
   ]
  },
  {
   "cell_type": "code",
   "execution_count": 59,
   "id": "881fc252",
   "metadata": {},
   "outputs": [
    {
     "data": {
      "image/png": "[encoded data removed]",
      "text/plain": [
       "<Figure size 1600x400 with 10 Axes>"
      ]
     },
     "metadata": {},
     "output_type": "display_data"
    }
   ],
   "source": [
    "plt.figure(figsize=(16,4))\n",
    "\n",
    "for i, x in enumerate(x_hat):\n",
    "    plt.subplot(1, n_test, i+1)\n",
    "    plt.imshow(x.squeeze())\n",
    "    plt.title(y_test[i].item())\n",
    "    plt.axis(False)"
   ]
  },
  {
   "cell_type": "markdown",
   "id": "9891bca3",
   "metadata": {},
   "source": [
    "# Bookmarks\n",
    "\n",
    "- https://lilianweng.github.io/posts/2018-08-12-vae/\n",
    "    - amazing overview on Autoencoders in general with nice figures\n",
    "- https://github.com/ludovicobuizza/gan_vae\n",
    "- "
   ]
  }
 ],
 "metadata": {
  "kernelspec": {
   "display_name": "dsc-tutorials",
   "language": "python",
   "name": "python3"
  },
  "language_info": {
   "codemirror_mode": {
    "name": "ipython",
    "version": 3
   },
   "file_extension": ".py",
   "mimetype": "text/x-python",
   "name": "python",
   "nbconvert_exporter": "python",
   "pygments_lexer": "ipython3",
   "version": "3.12.9"
  }
 },
 "nbformat": 4,
 "nbformat_minor": 5
}
