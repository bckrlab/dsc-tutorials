{
 "cells": [
  {
   "cell_type": "markdown",
   "id": "52acc5e0-21ba-4094-aa82-83630ba18ef6",
   "metadata": {},
   "source": [
    "# Of Snakes and Planets"
   ]
  },
  {
   "cell_type": "markdown",
   "id": "01b3770e-18da-40e2-8942-4af39087d112",
   "metadata": {},
   "source": [
    "> In this tutorial, we will talk about snakes and planets: The Jupyter Notebook Environment and the programming language python.\n",
    "\n",
    "Author: Bjarne C. Hiller"
   ]
  },
  {
   "cell_type": "markdown",
   "id": "665fd389-72d1-42b2-9a85-a98112983bdd",
   "metadata": {},
   "source": [
    "# Jupyter\n",
    "\n",
    "Welcome! But, where are we right now? No, not on Jupyter - we are in a Jupyter Notebook!\n",
    "\n",
    "Jupyter Notebooks provide a powerful tool for interactive data analysis.\n",
    "[Project Jupyter](https://jupyter.org/) started in 2015 on the basis of `IPython` (Interactive Python).\n",
    "Since then, they have become quite popular within the Data Science community, since they allow to mix code, documentation and presentation of results in one place.\n",
    "For example, there are Jupyter Notebooks about the first observation of gravitational waves and the discovery of a supermassive black-hole available on GitHub.\n",
    "\n",
    "If Jupyter is installed, you can create a new Jupyter Notebook from the command line using:\n",
    "\n",
    "```shell\n",
    "jupyter notebook\n",
    "```\n",
    "\n",
    "Alternatively, you can also use the newer web interface JupyterLab:\n",
    "\n",
    "```sh\n",
    "jupyter lab\n",
    "```\n",
    "\n",
    "JupyterNotebooks are also supported by Google Collab and Visual Studio Code!\n",
    "\n",
    "Jupyter Notebooks contain a sequence of text blocks referred to as cells.\n",
    "Cells contain either descriptive text in Markdown format, like this cell, or executable code.\n",
    "\n",
    "Code cells are executed by a *Kernel*, which runs in the background.\n",
    "The Kernel reads and evaluates the code and prints the result back into the Jupyter Notebook.\n",
    "As long as the kernel is running (alive), it keeps its memory, which allows you to carry over variables and definitions between code cells.\n",
    "See the [Jupyter Docs](https://docs.jupyter.org/en/latest/what_is_jupyter.html) for more information on Jupyter and Jupyter Notebooks."
   ]
  },
  {
   "cell_type": "markdown",
   "id": "e71f1f45-a62c-4e71-acdc-636706992f9e",
   "metadata": {},
   "source": [
    "Task: Change the text of this cell!"
   ]
  },
  {
   "cell_type": "markdown",
   "id": "ce251bdc-3b8a-4c10-8e9d-87f2aeaae8d5",
   "metadata": {},
   "source": [
    "Task: Create a new cell that reads \"Hi!\", then delete this cell!"
   ]
  },
  {
   "cell_type": "markdown",
   "id": "139fcdec-3e99-47af-8a49-bbbb2c786e88",
   "metadata": {},
   "source": [
    "Task: Create a new Jupyter Notebook!"
   ]
  },
  {
   "cell_type": "markdown",
   "id": "3fce20e8-6b44-4c6b-bd37-ecac2b43d288",
   "metadata": {},
   "source": [
    "We are now familiar with markdown cells: let's take a look at code cells next!"
   ]
  },
  {
   "cell_type": "markdown",
   "id": "9210defe-4352-4790-89c6-db1a148c5449",
   "metadata": {},
   "source": [
    "# Python"
   ]
  },
  {
   "cell_type": "markdown",
   "id": "a08d6422-e6c6-405f-ab6c-3a0483e63d1e",
   "metadata": {},
   "source": [
    "[Python](https://en.wikipedia.org/wiki/Python_(programming_language)) is a programming language that was developed in 1991  by Guido van Rossum.\n",
    "\n",
    "Python is:\n",
    "\n",
    "- **Interpreted**:\n",
    "- **Object-Oriented**: Most things in Python are Objects.\n",
    "- **dynamically typed**: type-safety of operations is checked at runtime. This allows programmers to write very flexible code, but eventually, the program will fail during runtime due to operations on unsupperted types.\n",
    "\n",
    "- **Grabage Collected**: Dead variables are automatically identified and released. Programmers don't have to worry about memory management, but running the garbage collector takes time."
   ]
  },
  {
   "cell_type": "markdown",
   "id": "b0d129ca-8e00-4c29-8585-fc41126f12e0",
   "metadata": {},
   "source": [
    "The [Zen of Python](https://en.wikipedia.org/wiki/Zen_of_Python) are design guidelines for programming in Python:\n",
    "\n",
    "    Beautiful is better than ugly.\n",
    "    Explicit is better than implicit.\n",
    "    Simple is better than complex.\n",
    "    Complex is better than complicated.\n",
    "    Flat is better than nested.\n",
    "    Sparse is better than dense.\n",
    "    Readability counts.\n",
    "    Special cases aren't special enough to break the rules.\n",
    "    Although practicality beats purity.\n",
    "    Errors should never pass silently.\n",
    "    Unless explicitly silenced.\n",
    "    In the face of ambiguity, refuse the temptation to guess.\n",
    "    There should be one-- and preferably only one --obvious way to do it.[c]\n",
    "    Although that way may not be obvious at first unless you're Dutch.\n",
    "    Now is better than never.\n",
    "    Although never is often better than right now.[d]\n",
    "    If the implementation is hard to explain, it's a bad idea.\n",
    "    If the implementation is easy to explain, it may be a good idea.\n",
    "    Namespaces are one honking great idea – let's do more of those!"
   ]
  },
  {
   "cell_type": "markdown",
   "id": "ccbea933-9e85-43d7-af07-b458874fee77",
   "metadata": {},
   "source": [
    "# Package Management in Python"
   ]
  },
  {
   "cell_type": "markdown",
   "id": "6e7e6447-0dd9-4b72-8920-5acfc014931d",
   "metadata": {},
   "source": [
    "## Pip"
   ]
  },
  {
   "cell_type": "code",
   "execution_count": null,
   "id": "6bce9a93-e7db-4a4f-bf45-bf9b787fec2a",
   "metadata": {},
   "outputs": [],
   "source": []
  }
 ],
 "metadata": {
  "kernelspec": {
   "display_name": "Python 3 (ipykernel)",
   "language": "python",
   "name": "python3"
  },
  "language_info": {
   "codemirror_mode": {
    "name": "ipython",
    "version": 3
   },
   "file_extension": ".py",
   "mimetype": "text/x-python",
   "name": "python",
   "nbconvert_exporter": "python",
   "pygments_lexer": "ipython3",
   "version": "3.12.2"
  }
 },
 "nbformat": 4,
 "nbformat_minor": 5
}
