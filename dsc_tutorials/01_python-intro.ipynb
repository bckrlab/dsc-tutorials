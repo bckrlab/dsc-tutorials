{
 "cells": [
  {
   "cell_type": "markdown",
   "id": "52acc5e0-21ba-4094-aa82-83630ba18ef6",
   "metadata": {},
   "source": [
    "# Of Snakes and Planets"
   ]
  },
  {
   "cell_type": "markdown",
   "id": "01b3770e-18da-40e2-8942-4af39087d112",
   "metadata": {},
   "source": [
    "> In this tutorial, we will talk about snakes and planets: The Jupyter Notebook Environment and the programming language python.\n",
    "\n",
    "Author: Bjarne C. Hiller"
   ]
  },
  {
   "cell_type": "markdown",
   "id": "665fd389-72d1-42b2-9a85-a98112983bdd",
   "metadata": {},
   "source": [
    "## Jupyter\n",
    "\n",
    "Welcome! But, where are we right now? No, not on Jupyter - we are in a Jupyter Notebook!\n",
    "\n",
    "Jupyter Notebooks provide a powerful tool for interactive data analysis.\n",
    "[Project Jupyter](https://jupyter.org/) started in 2015 on the basis of `IPython` (Interactive Python).\n",
    "Since then, they have become quite popular within the Data Science community, since they allow to mix code, documentation and presentation of results in one place.\n",
    "For example, there are Jupyter Notebooks about the first observation of gravitational waves and the discovery of a supermassive black-hole available on GitHub.\n",
    "\n",
    "If Jupyter is installed, you can create a new Jupyter Notebook from the command line using:\n",
    "\n",
    "```shell\n",
    "jupyter notebook\n",
    "```\n",
    "\n",
    "Alternatively, you can also use the newer web interface JupyterLab:\n",
    "\n",
    "```sh\n",
    "jupyter lab\n",
    "```\n",
    "\n",
    "JupyterNotebooks are also supported by Google Collab and Visual Studio Code!\n",
    "\n",
    "Jupyter Notebooks contain a sequence of text blocks referred to as cells.\n",
    "Cells contain either descriptive text in Markdown format, like this cell, or executable code.\n",
    "\n",
    "Code cells are executed by a *Kernel*, which runs in the background.\n",
    "The Kernel reads and evaluates the code and prints the result back into the Jupyter Notebook.\n",
    "As long as the kernel is running (alive), it keeps its memory, which allows you to carry over variables and definitions between code cells.\n",
    "See the [Jupyter Docs](https://docs.jupyter.org/en/latest/what_is_jupyter.html) for more information on Jupyter and Jupyter Notebooks."
   ]
  },
  {
   "cell_type": "markdown",
   "id": "e71f1f45-a62c-4e71-acdc-636706992f9e",
   "metadata": {},
   "source": [
    "> Change the text of this cell!"
   ]
  },
  {
   "cell_type": "markdown",
   "id": "ce251bdc-3b8a-4c10-8e9d-87f2aeaae8d5",
   "metadata": {},
   "source": [
    "> Create a new cell that reads \"Hi!\", then delete this cell!"
   ]
  },
  {
   "cell_type": "markdown",
   "id": "139fcdec-3e99-47af-8a49-bbbb2c786e88",
   "metadata": {},
   "source": [
    "> Create a new Jupyter Notebook!"
   ]
  },
  {
   "cell_type": "markdown",
   "id": "3fce20e8-6b44-4c6b-bd37-ecac2b43d288",
   "metadata": {},
   "source": [
    "We are now familiar with markdown cells: let's take a look at code cells next!"
   ]
  },
  {
   "cell_type": "markdown",
   "id": "9210defe-4352-4790-89c6-db1a148c5449",
   "metadata": {},
   "source": [
    "## Python\n",
    "\n",
    "> *\"Python is the \"most powerful language you can still read\".*\n",
    ">\n",
    "> Paul Dubois "
   ]
  },
  {
   "cell_type": "markdown",
   "id": "a08d6422-e6c6-405f-ab6c-3a0483e63d1e",
   "metadata": {},
   "source": [
    "[Python](https://en.wikipedia.org/wiki/Python_(programming_language)) is a programming language that was developed in 1991 by \"Benevolent dictator for life\" Guido van Rossum.\n",
    "\n",
    "Python is:\n",
    "\n",
    "- **Interpreted**: Programs are executed line by line by an interpreter instead of being compiled into machine code first.\n",
    "- **multi-paradigm**: programmers can choose their favorite way to conceptualize and structure programs\n",
    "    - **Object-Oriented**: Programs are implemented via interacting objects. Most things in Python are objects, including functions.\n",
    "    - **Procedural**: Programs are implemented via interacting functions.\n",
    "    - **functional**: \n",
    "- **dynamically typed**: type-safety of operations is checked at runtime. This allows programmers to write very flexible code, but eventually, the program will fail during runtime due to operations on unsupperted types.\n",
    "- **Grabage Collected**: Dead variables are automatically identified and released. Programmers don't have to worry about memory management, but running the garbage collector takes time.\n",
    "- etc."
   ]
  },
  {
   "cell_type": "markdown",
   "id": "b0d129ca-8e00-4c29-8585-fc41126f12e0",
   "metadata": {},
   "source": [
    "The [Zen of Python](https://en.wikipedia.org/wiki/Zen_of_Python) are design guidelines for programming in Python:\n",
    "\n",
    "    Beautiful is better than ugly.\n",
    "    Explicit is better than implicit.\n",
    "    Simple is better than complex.\n",
    "    Complex is better than complicated.\n",
    "    Flat is better than nested.\n",
    "    Sparse is better than dense.\n",
    "    Readability counts.\n",
    "    Special cases aren't special enough to break the rules.\n",
    "    Although practicality beats purity.\n",
    "    Errors should never pass silently.\n",
    "    Unless explicitly silenced.\n",
    "    In the face of ambiguity, refuse the temptation to guess.\n",
    "    There should be one-- and preferably only one --obvious way to do it.[c]\n",
    "    Although that way may not be obvious at first unless you're Dutch.\n",
    "    Now is better than never.\n",
    "    Although never is often better than right now.[d]\n",
    "    If the implementation is hard to explain, it's a bad idea.\n",
    "    If the implementation is easy to explain, it may be a good idea.\n",
    "    Namespaces are one honking great idea – let's do more of those!"
   ]
  },
  {
   "cell_type": "code",
   "execution_count": 5,
   "id": "d0f745bf-8293-48fa-a33a-b3b8a36154a6",
   "metadata": {},
   "outputs": [
    {
     "name": "stdout",
     "output_type": "stream",
     "text": [
      "Hello World!\n"
     ]
    }
   ],
   "source": [
    "print(\"Hello World!\")"
   ]
  },
  {
   "cell_type": "code",
   "execution_count": null,
   "id": "8da08c56-274f-49da-862e-b6cb5499e0d1",
   "metadata": {},
   "outputs": [],
   "source": [
    "# TODO: Add Python tasks"
   ]
  },
  {
   "cell_type": "code",
   "execution_count": 20,
   "id": "ac17c77c-49d1-453b-ba25-05d039e04671",
   "metadata": {},
   "outputs": [
    {
     "data": {
      "text/plain": [
       "6"
      ]
     },
     "execution_count": 20,
     "metadata": {},
     "output_type": "execute_result"
    }
   ],
   "source": [
    "# import packages\n",
    "import random\n",
    "\n",
    "def throw_dice():\n",
    "    return random.randint(1,6)\n",
    "\n",
    "throw_dice()"
   ]
  },
  {
   "cell_type": "markdown",
   "id": "ccbea933-9e85-43d7-af07-b458874fee77",
   "metadata": {},
   "source": [
    "## Package Management in Python"
   ]
  },
  {
   "cell_type": "markdown",
   "id": "5b9422bf-84e3-4c60-bd22-90badd0521f1",
   "metadata": {},
   "source": [
    "While Python's standard library is already pretty powerful, there are many more great packages for data science.\n",
    "Existing Data Science projects will probably depend on some of them.\n",
    "Next, let's have a look how to install and manage packages in Python."
   ]
  },
  {
   "cell_type": "markdown",
   "id": "6e7e6447-0dd9-4b72-8920-5acfc014931d",
   "metadata": {},
   "source": [
    "### pip\n",
    "\n",
    "pip is Python's package-management tool for installing new packages.\n",
    "Python packages are provided by an online repository called the **Python Package Index**, or short [PyPI](https://pypi.org/)."
   ]
  },
  {
   "cell_type": "markdown",
   "id": "254e4992-81b6-4676-9cea-65429c0094da",
   "metadata": {},
   "source": [
    "```sh\n",
    "pip install {PACKAGE NAME}\n",
    "```"
   ]
  },
  {
   "cell_type": "markdown",
   "id": "0d65e168-f265-46a7-8ece-ddb006a20207",
   "metadata": {},
   "source": [
    "Often projects come with a `requirements.txt` file that specifies their requirements. It can be installed with pip:\n",
    "\n",
    "```sh\n",
    "pip install -r requirements.txt\n",
    "```"
   ]
  },
  {
   "cell_type": "markdown",
   "id": "4ba3d734-4570-4883-b69c-1db012431ffd",
   "metadata": {},
   "source": [
    "> install the package pyjokes and run the next cell"
   ]
  },
  {
   "cell_type": "code",
   "execution_count": 21,
   "id": "c539f499-e744-43b6-b6fc-eedc5c793f5b",
   "metadata": {},
   "outputs": [
    {
     "name": "stdout",
     "output_type": "stream",
     "text": [
      "Collecting pyjokes\n",
      "  Downloading pyjokes-0.8.3-py3-none-any.whl.metadata (3.4 kB)\n",
      "Downloading pyjokes-0.8.3-py3-none-any.whl (47 kB)\n",
      "Installing collected packages: pyjokes\n",
      "Successfully installed pyjokes-0.8.3\n"
     ]
    }
   ],
   "source": [
    "!pip install pyjokes"
   ]
  },
  {
   "cell_type": "code",
   "execution_count": 22,
   "id": "7aa1feaa-e9db-4085-984d-93038671b76f",
   "metadata": {},
   "outputs": [
    {
     "data": {
      "text/plain": [
       "\"There are 10 types of people: those who understand binary and those who don't.\""
      ]
     },
     "execution_count": 22,
     "metadata": {},
     "output_type": "execute_result"
    }
   ],
   "source": [
    "import pyjokes\n",
    "\n",
    "pyjokes.get_joke()"
   ]
  },
  {
   "cell_type": "markdown",
   "id": "8d8fd3e0-74e2-43b6-974c-e3f86dc6ccc0",
   "metadata": {},
   "source": [
    "## Virtual Environments"
   ]
  },
  {
   "cell_type": "markdown",
   "id": "6f921af2-652f-45a9-855c-e146cb8e48da",
   "metadata": {},
   "source": [
    "pip is great! But things start to get messy as soon as you have multiple projects, each requiring their own dependencies.\n",
    "Fortunately, there is one solution: [Virtual Environments](https://docs.python.org/3/library/venv.html)!"
   ]
  },
  {
   "cell_type": "markdown",
   "id": "a1082271-20c8-433b-8d7d-5aac760823d2",
   "metadata": {},
   "source": [
    "```sh\n",
    "# create a new virtual environment\n",
    "python -m venv myproject\n",
    "\n",
    "# don't forget to activate it!\n",
    "source myenv/bin/activate\n",
    "\n",
    "# install your packages\n",
    "pip install jupyter\n",
    "\n",
    "# try to start a new jupyter notebook\n",
    "jupyter notebook\n",
    "\n",
    "# deactivate the environment\n",
    "deactivate\n",
    "```"
   ]
  },
  {
   "cell_type": "markdown",
   "id": "0b5e65d4-3995-4b8b-bc5c-f6fda9b3567e",
   "metadata": {},
   "source": [
    "### Conda"
   ]
  },
  {
   "cell_type": "markdown",
   "id": "adf69db9-7594-4b10-ade4-e3d05b4257e9",
   "metadata": {},
   "source": [
    "- https://docs.conda.io\n",
    "- Miniconda: https://docs.anaconda.com/miniconda/"
   ]
  },
  {
   "cell_type": "markdown",
   "id": "c069f3b6-fe16-4836-abab-16337903076c",
   "metadata": {},
   "source": [
    "```sh\n",
    "conda create -n myenv\n",
    "conda activate myenv\n",
    "conda install python=3.12 numpy jupyter\n",
    "```"
   ]
  },
  {
   "cell_type": "markdown",
   "id": "720d22f6-ed29-4385-ae9f-b0afbbe15841",
   "metadata": {},
   "source": [
    "Quick Reference:\n",
    "\n",
    "```sh\n",
    "# create a new conda environment with a name\n",
    "conda create -n myenv\n",
    "# create a conda environment from a yml file\n",
    "conda env create -f environment.yml\n",
    "# list available conda environments\n",
    "conda env list\n",
    "# activate a conda environment\n",
    "conda activate myenv\n",
    "# install dependencies in active environment\n",
    "conda install numpy \n",
    "# export your environment to a yml file\n",
    "conda env export -f environment.yml\n",
    "conda env export > environment.yml\n",
    "# deactivate an environment\n",
    "conda deactivate\n",
    "# remove an environment\n",
    "conda remove --name myenv --all\n",
    "```"
   ]
  },
  {
   "cell_type": "markdown",
   "id": "91adae1a-892b-40f3-908f-0cf99801d981",
   "metadata": {},
   "source": [
    "## Pointers"
   ]
  },
  {
   "cell_type": "markdown",
   "id": "5ff781fc-3d42-4415-ae02-c97576161939",
   "metadata": {},
   "source": [
    "- https://ipython.readthedocs.io/en/stable/interactive/magics.html"
   ]
  },
  {
   "cell_type": "code",
   "execution_count": null,
   "id": "9a2be204-a8d8-4b84-a454-1982b858076b",
   "metadata": {},
   "outputs": [],
   "source": []
  }
 ],
 "metadata": {
  "kernelspec": {
   "display_name": "Python 3 (ipykernel)",
   "language": "python",
   "name": "python3"
  },
  "language_info": {
   "codemirror_mode": {
    "name": "ipython",
    "version": 3
   },
   "file_extension": ".py",
   "mimetype": "text/x-python",
   "name": "python",
   "nbconvert_exporter": "python",
   "pygments_lexer": "ipython3",
   "version": "3.12.2"
  }
 },
 "nbformat": 4,
 "nbformat_minor": 5
}
