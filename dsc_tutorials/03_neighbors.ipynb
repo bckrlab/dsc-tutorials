{
 "cells": [
  {
   "cell_type": "markdown",
   "metadata": {
    "vscode": {
     "languageId": "plaintext"
    }
   },
   "source": [
    "# $k$-Nearest-Neighbors\n",
    "\n",
    "> \n",
    ">\n",
    "> **Author:** Bjarne C. Hiller"
   ]
  },
  {
   "cell_type": "markdown",
   "metadata": {},
   "source": [
    "## Distance Metric\n",
    "\n",
    "## Vector Norms\n",
    "\n",
    "$p$-norm\n",
    "\n",
    "$$\n",
    "    \\lVert \\mathbf{x} \\rVert_p = \\left( \\sum_{i=1}^d x_i^p \\right)^{\\frac{1}{p}}\n",
    "$$\n",
    "\n",
    "Taxicab norm or Manhatten norm:\n",
    "\n",
    "Euclidian norm:\n",
    "\n",
    "Euclidean Distance:\n",
    "$$\n",
    "    D(x,y) = \\sqrt{\\sum_{i=0}^d (x_i - y_i)^2}\n",
    "$$"
   ]
  },
  {
   "cell_type": "code",
   "execution_count": 1,
   "metadata": {},
   "outputs": [],
   "source": [
    "from sklearn.datasets import make_classification\n",
    "\n"
   ]
  },
  {
   "cell_type": "code",
   "execution_count": 5,
   "metadata": {},
   "outputs": [
    {
     "data": {
      "text/plain": [
       "(6, 4, 2)"
      ]
     },
     "execution_count": 5,
     "metadata": {},
     "output_type": "execute_result"
    }
   ],
   "source": [
    "import numpy as np\n",
    "\n",
    "A = np.random.randn(6,2)\n",
    "B = np.random.randn(4,2)\n",
    "\n",
    "(A[:, np.newaxis, :] - B).shape"
   ]
  },
  {
   "cell_type": "code",
   "execution_count": 12,
   "metadata": {},
   "outputs": [],
   "source": [
    "def distance_matrix(A, B):\n",
    "    \"\"\"\n",
    "    Computes pairwise distances between points.\n",
    "\n",
    "    :param A: point array (n, d)\n",
    "    :param B: point array (m, d)\n",
    "    :returns: pairwise distance matrix (n,m) \n",
    "    \"\"\"\n",
    "    # repeat A m times to receive (n,m,d)\n",
    "    A = A[:, np.newaxis, :]\n",
    "    # numpy broadcasting magic!\n",
    "    D = A - B\n",
    "    D = np.power(D, 2)\n",
    "    D = np.sum(D, axis=-1)\n",
    "    D = np.sqrt(D)\n",
    "    return D\n",
    "    \n",
    "D = distance_matrix(A, B)"
   ]
  },
  {
   "cell_type": "code",
   "execution_count": null,
   "metadata": {},
   "outputs": [],
   "source": [
    "np.histogram()"
   ]
  },
  {
   "cell_type": "code",
   "execution_count": 23,
   "metadata": {},
   "outputs": [
    {
     "data": {
      "text/plain": [
       "array([['C'],\n",
       "       ['B'],\n",
       "       ['B'],\n",
       "       ['B'],\n",
       "       ['C'],\n",
       "       ['B']], dtype='<U1')"
      ]
     },
     "execution_count": 23,
     "metadata": {},
     "output_type": "execute_result"
    }
   ],
   "source": [
    "rank = np.argsort(D, axis=1)[:, :1]\n",
    "\n",
    "y = np.array([\"A\", \"B\", \"C\", \"D\", \"E\", \"F\"])\n",
    "y[rank]"
   ]
  },
  {
   "cell_type": "code",
   "execution_count": null,
   "metadata": {},
   "outputs": [
    {
     "data": {
      "text/plain": [
       "array(['A', 'B', 'C', 'D', 'E', 'F'], dtype='<U1')"
      ]
     },
     "execution_count": 24,
     "metadata": {},
     "output_type": "execute_result"
    }
   ],
   "source": [
    "np.unique(y)\n",
    "np.bincount()"
   ]
  },
  {
   "cell_type": "code",
   "execution_count": 25,
   "metadata": {},
   "outputs": [],
   "source": [
    "class KNN:\n",
    "    def __init__(self, k=1):\n",
    "        self.k = k\n",
    "        # sklearn convention: fields ending on underscores (_) are computed during fit\n",
    "        self.X_train_ = None\n",
    "        self.y_train_ = None\n",
    "        self.classes_ = None\n",
    "    \n",
    "    def fit(self, X, y):\n",
    "        # store training data\n",
    "        self.X_train_ = X\n",
    "        self.y_train_ = y\n",
    "        self.classes_ = np.unique(y)\n",
    "    \n",
    "    def predict(self, X):\n",
    "        # compute pairwise distances between train and test\n",
    "        D = distance_matrix(X, self.X_train_)\n",
    "\n",
    "        # get sorted indices\n",
    "        rank = np.argsort(D, axis=1)\n",
    "\n",
    "        # use only top k ranks\n",
    "        rank = rank[:, :self.k]\n",
    "\n",
    "        # get labels (n,k) associated with k closest train points\n",
    "        y = self.y_train_[rank]\n",
    "\n",
    "        # for k>1, we need to count label occurences\n",
    "        # TODO!        \n",
    "\n",
    "\n",
    "\n",
    "        return y"
   ]
  },
  {
   "cell_type": "code",
   "execution_count": null,
   "metadata": {},
   "outputs": [],
   "source": [
    "from sklearn.datasets import load_iris\n",
    "\n",
    "iris_ds = load_iris()"
   ]
  },
  {
   "cell_type": "code",
   "execution_count": 28,
   "metadata": {},
   "outputs": [],
   "source": [
    "from sklearn.model_selection import train_test_split\n",
    "\n",
    "X = iris_ds[\"data\"]\n",
    "y = iris_ds[\"target\"]\n",
    "\n",
    "X_train, X_test, y_train, y_test = train_test_split(X, y, random_state=19)\n",
    "\n",
    "model = KNN(k=1)\n",
    "model.fit(X_train, y_train)"
   ]
  },
  {
   "cell_type": "code",
   "execution_count": 34,
   "metadata": {},
   "outputs": [],
   "source": [
    "y_hat = model.predict(X_test)\n",
    "y_hat = y_hat[:, 0]"
   ]
  },
  {
   "cell_type": "code",
   "execution_count": 36,
   "metadata": {},
   "outputs": [
    {
     "data": {
      "text/plain": [
       "np.int64(35)"
      ]
     },
     "execution_count": 36,
     "metadata": {},
     "output_type": "execute_result"
    }
   ],
   "source": [
    "(y_hat == y_test).sum()"
   ]
  },
  {
   "cell_type": "code",
   "execution_count": 37,
   "metadata": {},
   "outputs": [
    {
     "data": {
      "text/plain": [
       "(38,)"
      ]
     },
     "execution_count": 37,
     "metadata": {},
     "output_type": "execute_result"
    }
   ],
   "source": [
    "y_hat.shape"
   ]
  }
 ],
 "metadata": {
  "kernelspec": {
   "display_name": "dsc-tutorials",
   "language": "python",
   "name": "python3"
  },
  "language_info": {
   "codemirror_mode": {
    "name": "ipython",
    "version": 3
   },
   "file_extension": ".py",
   "mimetype": "text/x-python",
   "name": "python",
   "nbconvert_exporter": "python",
   "pygments_lexer": "ipython3",
   "version": "3.12.2"
  }
 },
 "nbformat": 4,
 "nbformat_minor": 2
}
