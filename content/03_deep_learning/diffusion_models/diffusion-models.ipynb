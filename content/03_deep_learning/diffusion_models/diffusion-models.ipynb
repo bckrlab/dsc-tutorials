{
 "cells": [
  {
   "cell_type": "markdown",
   "metadata": {},
   "source": [
    "# Diffusion Models"
   ]
  },
  {
   "cell_type": "markdown",
   "metadata": {},
   "source": [
    "![](figures/ho_2020_fig_02.png)"
   ]
  },
  {
   "cell_type": "markdown",
   "metadata": {},
   "source": [
    "## 1D Diffusion"
   ]
  },
  {
   "cell_type": "markdown",
   "metadata": {},
   "source": [
    "Let's start simple, just doing 1D diffusion.\n",
    "For 1D, it works like this:\n",
    "\n",
    "- we start with a single scalar value $x_0$\n",
    "- the *forward process* gradually adds noise to $x_0$ over the course of $T$ steps\n",
    "- finally, we end up with $x_T$, which is just randomly distributed\n",
    "- now, in the *backward process*, our model predicts how much noise was added in each step\n",
    "- by continuously subtracting the predicted noise, we can denoise our initial data point"
   ]
  },
  {
   "cell_type": "code",
   "execution_count": 1,
   "metadata": {},
   "outputs": [],
   "source": [
    "import torch\n",
    "import torch.nn as nn\n",
    "\n",
    "import seaborn as sns\n",
    "import matplotlib.pyplot as plt\n"
   ]
  },
  {
   "cell_type": "code",
   "execution_count": 2,
   "metadata": {},
   "outputs": [],
   "source": [
    "# generate our input data\n",
    "# x = torch.randn(100)\n",
    "x = torch.rand(100) * 10"
   ]
  },
  {
   "cell_type": "code",
   "execution_count": 3,
   "metadata": {},
   "outputs": [
    {
     "data": {
      "image/png": "[encoded data removed]",
      "text/plain": [
       "<Figure size 640x480 with 1 Axes>"
      ]
     },
     "metadata": {},
     "output_type": "display_data"
    }
   ],
   "source": [
    "sns.histplot(x, kde=True)\n",
    "plt.title(\"Distribution of Data Points\");"
   ]
  },
  {
   "cell_type": "markdown",
   "metadata": {},
   "source": [
    "Let's start with the forward process, where we sequentially add noise"
   ]
  },
  {
   "cell_type": "markdown",
   "metadata": {},
   "source": [
    "![parameters in Ho2020](figures/ho_2020_params.png)"
   ]
  },
  {
   "cell_type": "code",
   "execution_count": 6,
   "metadata": {},
   "outputs": [],
   "source": [
    "# total number of time steps - this is kind of arbitrary, not gonna lie\n",
    "# you just want a number that's big enough, so that noise is added gradually\n",
    "T = 100\n",
    "\n",
    "def beta_schedule(t, beta_0=1e-4, beta_t=0.02):\n",
    "    return torch.linspace(beta_0, beta_t, t)\n",
    "\n",
    "betas = beta_schedule(T)"
   ]
  },
  {
   "cell_type": "markdown",
   "metadata": {},
   "source": [
    "The paper points out, that you can sample $x_t$ at an arbitrary time point $t$ in ~~closed form~~ a single step:\n",
    "\n",
    "$$\n",
    "    q(x_t|x_0) = \\mathcal{N}(x_t; \\sqrt{\\bar{\\alpha_t}}x_0, (1-\\bar{\\alpha}_t) I)\n",
    "$$"
   ]
  },
  {
   "cell_type": "code",
   "execution_count": 7,
   "metadata": {},
   "outputs": [],
   "source": [
    "def forward_process(x, t, beta):\n",
    "    alpha_t = 1 - beta\n",
    "    alpha = torch.prod(alpha_t[:t])\n",
    "\n",
    "\n",
    "    return torch.normal(torch.sqrt(alpha) * x, (1 - alpha))"
   ]
  },
  {
   "cell_type": "code",
   "execution_count": 5,
   "metadata": {},
   "outputs": [],
   "source": [
    "class BadTrip1D(nn.Module):\n",
    "    \"\"\"Definitely not MidJourney\"\"\"\n",
    "\n",
    "    def __init__(self, T):\n",
    "        super().__init__()\n",
    "        # total number of time steps\n",
    "        self.T = T\n",
    "\n",
    "        # two inputs, since we process x and the current time step t\n",
    "        self.model = nn.Sequential(\n",
    "            nn.Linear(2, 32),\n",
    "            nn.ReLU(),\n",
    "            nn.Linear(32, 1)\n",
    "        )\n",
    "    \n",
    "    def forward(self, x, t):\n",
    "        \"\"\"Implements Reverse Process (despite the name)\"\"\"\n",
    "        # expects x and t to be [N, 1] shaped tensors (N being Batch)\n",
    "        if t.ndim == 1:\n",
    "            t = t.unsqueeze(1)\n",
    "        \n",
    "        # normalize time steps\n",
    "        t = t.float() / self.T\n",
    "        y = self.model(torch.cat([x, t], dim=1))\n",
    "        return y"
   ]
  },
  {
   "cell_type": "code",
   "execution_count": 22,
   "metadata": {},
   "outputs": [
    {
     "data": {
      "text/plain": [
       "tensor(6)"
      ]
     },
     "execution_count": 22,
     "metadata": {},
     "output_type": "execute_result"
    }
   ],
   "source": [
    "torch.prod(torch.tensor([1,2,3]))"
   ]
  },
  {
   "cell_type": "markdown",
   "metadata": {},
   "source": [
    "## Literature"
   ]
  },
  {
   "cell_type": "markdown",
   "metadata": {},
   "source": [
    "Denoising Diffusion Probabilistic Models\n",
    "- https://arxiv.org/abs/2006.11239\n",
    "- https://proceedings.neurips.cc/paper/2020/file/4c5bcfec8584af0d967f1ab10179ca4b-Paper.pdf\n",
    "\n",
    "\n",
    "An Overview of Diffusion Models\n",
    "- https://arxiv.org/abs/2404.07771\n",
    "\n",
    "Tutorials\n",
    "- https://deeplearning.neuromatch.io/tutorials/W2D4_GenerativeModels/student/W2D4_Tutorial2.html"
   ]
  },
  {
   "cell_type": "code",
   "execution_count": null,
   "metadata": {},
   "outputs": [],
   "source": []
  }
 ],
 "metadata": {
  "kernelspec": {
   "display_name": "dsc-tutorials",
   "language": "python",
   "name": "python3"
  },
  "language_info": {
   "codemirror_mode": {
    "name": "ipython",
    "version": 3
   },
   "file_extension": ".py",
   "mimetype": "text/x-python",
   "name": "python",
   "nbconvert_exporter": "python",
   "pygments_lexer": "ipython3",
   "version": "3.12.2"
  }
 },
 "nbformat": 4,
 "nbformat_minor": 2
}
